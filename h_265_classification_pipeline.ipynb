{
  "cells": [
    {
      "cell_type": "markdown",
      "source": [
        "Note that with the code above one cannot directly input a video and receive a classification label of compressed or double compressed. This could be achieved by saving a preffered model (python pickle). After a new video is given by the user, features can be extracted and summarized as below for classification. "
      ],
      "metadata": {
        "id": "UM_oh-TNOB_7"
      }
    },
    {
      "cell_type": "markdown",
      "source": [
        "# Press run cell button to run the H.265 classification pipeline "
      ],
      "metadata": {
        "id": "PaXcQa-9ebSr"
      }
    },
    {
      "cell_type": "code",
      "source": [
        "!pip install -q gitpython\n",
        "import os\n",
        "import pandas as pd\n",
        "from git import Repo\n",
        "\n",
        "# Clone the GitHub repository\n",
        "repo_url = 'https://github.com/c1scott/doublecompression'\n",
        "repo_path = 'doublecompression'\n",
        "Repo.clone_from(repo_url, repo_path)\n"
      ],
      "metadata": {
        "colab": {
          "base_uri": "https://localhost:8080/"
        },
        "id": "Ijr00LYFhOSz",
        "outputId": "6a94a4be-5ded-49e7-823b-7da749024481"
      },
      "execution_count": 1,
      "outputs": [
        {
          "output_type": "stream",
          "name": "stdout",
          "text": [
            "\u001b[2K     \u001b[90m━━━━━━━━━━━━━━━━━━━━━━━━━━━━━━━━━━━━━━━\u001b[0m \u001b[32m184.3/184.3 KB\u001b[0m \u001b[31m5.2 MB/s\u001b[0m eta \u001b[36m0:00:00\u001b[0m\n",
            "\u001b[2K     \u001b[90m━━━━━━━━━━━━━━━━━━━━━━━━━━━━━━━━━━━━━━━━\u001b[0m \u001b[32m62.7/62.7 KB\u001b[0m \u001b[31m3.3 MB/s\u001b[0m eta \u001b[36m0:00:00\u001b[0m\n",
            "\u001b[?25h"
          ]
        },
        {
          "output_type": "execute_result",
          "data": {
            "text/plain": [
              "<git.repo.base.Repo '/content/doublecompression/.git'>"
            ]
          },
          "metadata": {},
          "execution_count": 1
        }
      ]
    },
    {
      "cell_type": "code",
      "source": [
        "# imports rest of necessary libraries \n",
        "import numpy as np\n",
        "from sklearn.pipeline import Pipeline\n",
        "from sklearn.model_selection import RandomizedSearchCV\n",
        "from sklearn.impute import SimpleImputer\n",
        "from sklearn.preprocessing import StandardScaler\n",
        "import matplotlib.pyplot as plt\n",
        "from sklearn.model_selection import train_test_split, cross_val_score, StratifiedKFold\n",
        "from sklearn.ensemble import RandomForestClassifier\n",
        "from sklearn.metrics import confusion_matrix, ConfusionMatrixDisplay\n",
        "\n",
        "\n",
        "# Define utility functions\n",
        "\n",
        "# Mapping of possible frame types within video/jsons of features to numerical values \n",
        "def map_first_col(val):\n",
        "    return {\"I\": 0, \"P\": 1, \"B\": 2}.get(val, val)\n",
        "\n",
        "# This function processes CSV files in a given folder by mapping their first columns and adding a \"label\" column.\n",
        "# If a file name starts with \"single\", it is labeled as \"single compressed\", and if it starts with \"double\", \n",
        "# it is labeled as \"double compressed\". The processed DataFrames are saved to new CSV files with a \"modified_\" \n",
        "# prefix in the same folder\n",
        "\n",
        "def process_csv_files(folder_path):\n",
        "    for filename in os.listdir(folder_path):\n",
        "        if filename.endswith(\".csv\"):\n",
        "            if filename.startswith(\"single\"):\n",
        "                label = \"single compressed\"\n",
        "            elif filename.startswith(\"double\"):\n",
        "                label = \"double compressed\"\n",
        "            else:\n",
        "                continue\n",
        "\n",
        "            file_path = os.path.join(folder_path, filename)\n",
        "            df = pd.read_csv(file_path)\n",
        "            df.iloc[:, 0] = df.iloc[:, 0].apply(map_first_col)\n",
        "            df['label'] = label\n",
        "            df.to_csv(os.path.join(folder_path, f\"modified_{filename}\"), index=False)\n",
        "\n",
        "# This function prepares a dataset from CSV files in a given folder by concatenating DataFrames with \"modified_\" \n",
        "# prefix, splitting the data into features and labels, and performing a train-test split with a test size of 0.2 \n",
        "# and a random seed of 42. It returns the split data.\n",
        "\n",
        "def prepare_dataset(folder_path):\n",
        "    dataframes = []\n",
        "    for filename in os.listdir(folder_path):\n",
        "        if filename.startswith(\"modified\"):\n",
        "            file_path = os.path.join(folder_path, filename)\n",
        "            df = pd.read_csv(file_path)\n",
        "            dataframes.append(df)\n",
        "    dataset = pd.concat(dataframes, ignore_index=True)\n",
        "    X = dataset.iloc[:, :-1].values\n",
        "    y = dataset.iloc[:, -1].values\n",
        "    return train_test_split(X, y, test_size=0.2, random_state=42)\n",
        "\n",
        "def prepare_file_dataset(folder_path):\n",
        "    data = []\n",
        "    for filename in os.listdir(folder_path):\n",
        "        if filename.startswith(\"modified\"):\n",
        "            file_path = os.path.join(folder_path, filename)\n",
        "            df = pd.read_csv(file_path)\n",
        "            label = \"single compressed\" if filename.startswith(\"modified_single\") else \"double compressed\"\n",
        "            data.append((df.iloc[:, :-1].values, label, filename))\n",
        "    return data\n",
        "\n",
        "def classify_files(X_train, y_train, file_data):\n",
        "    rf = RandomForestClassifier(n_estimators=100, n_jobs=-1)\n",
        "    rf.fit(X_train, y_train)\n",
        "    results = []\n",
        "    for X, true_label, file_name in file_data:\n",
        "        y_pred = rf.predict(X)\n",
        "        majority_label = \"single compressed\" if np.count_nonzero(y_pred == \"single compressed\") > np.count_nonzero(y_pred == \"double compressed\") else \"double compressed\"\n",
        "        is_correct = majority_label == true_label\n",
        "        misclassified_count = np.count_nonzero(y_pred != true_label)\n",
        "        results.append((file_name, true_label, majority_label, is_correct, misclassified_count))\n",
        "    return results\n",
        "\n",
        "def evaluate_model_with_cross_val(X, y, cv=5):\n",
        "    rf = RandomForestClassifier(n_estimators=100, n_jobs=-1)\n",
        "    scores = cross_val_score(rf, X, y, cv=cv)\n",
        "    return scores\n",
        "\n",
        "def plot_boxplot(scores, labels=None, title=None):\n",
        "    plt.boxplot(scores, labels=labels)\n",
        "    plt.ylabel('Accuracy')\n",
        "    if title is not None:\n",
        "        plt.title(title)\n",
        "    plt.show()\n",
        "\n",
        "def plot_confusion_matrix(y_true, y_pred, labels=None, title=None):\n",
        "    cm = confusion_matrix(y_true, y_pred, labels=labels)\n",
        "    disp = ConfusionMatrixDisplay(confusion_matrix=cm, display_labels=labels)\n",
        "    disp.plot(cmap=plt.cm.Blues)\n",
        "    if title is not None:\n",
        "        plt.title(title)\n",
        "    plt.show()\n",
        "\n",
        "\n",
        "# Process the CSV files\n",
        "folder_path = \"/content/doublecompression/265 output\"\n",
        "process_csv_files(folder_path)\n",
        "\n",
        "# Prepare the dataset by adding a new column with the true label of the row's class\n",
        "file_data = prepare_file_dataset(folder_path)\n",
        "\n",
        "X_train, X_test, y_train, y_test = prepare_dataset(folder_path)\n",
        "\n",
        "\n",
        "# Evaluate the model using cross-validation and find the best model\n",
        "best_model = None\n",
        "best_score = -1\n",
        "random_seeds = [42, 57, 89, 103, 1337]\n",
        "all_scores = []\n",
        "for seed in random_seeds:\n",
        "    seed_scores = []\n",
        "    cv = StratifiedKFold(n_splits=5, shuffle=True, random_state=seed)\n",
        "    for train_index, val_index in cv.split(X_train, y_train):\n",
        "        X_train_cv, X_val_cv = X_train[train_index], X_train[val_index]\n",
        "        y_train_cv, y_val_cv = y_train[train_index], y_train[val_index]\n",
        "\n",
        "        rf = RandomForestClassifier(n_estimators=100, n_jobs=-1)\n",
        "        rf.fit(X_train_cv, y_train_cv)\n",
        "\n",
        "        score = rf.score(X_val_cv, y_val_cv)\n",
        "        seed_scores.append(score)\n",
        "\n",
        "        if score > best_score:\n",
        "            best_score = score\n",
        "            best_model = rf\n",
        "    all_scores.append(seed_scores)\n",
        "\n",
        "mean_score = np.mean(all_scores)\n",
        "std_score = np.std(all_scores)\n",
        "print(f\"Mean cross-validation score: {mean_score}, standard deviation: {std_score}\")\n",
        "\n",
        "# Use the best model to predict on the test set\n",
        "y_pred = best_model.predict(X_test)\n",
        "\n",
        "\n",
        "# Classify files and count misclassified entries within files\n",
        "results = classify_files(X_test, y_test, file_data)\n",
        "misclassified_file_counts = {}\n",
        "for result in results:\n",
        "    file_name = result[0]\n",
        "    misclassified_count = result[-1]\n",
        "    misclassified_file_counts[file_name] = misclassified_file_counts.get(file_name, 0) + misclassified_count\n",
        "\n",
        "# Print the number of misclassified entries for each file\n",
        "for file_name, count in misclassified_file_counts.items():\n",
        "    print(f\"{file_name}: {count} misclassified entries\")\n",
        "\n",
        "# Plot the boxplot of cross-validation scores\n",
        "plot_boxplot(all_scores, labels=[str(seed) for seed in random_seeds], title='Cross-Validation Scores for Each Run')\n",
        "\n",
        "# Print misclassified CSV files\n",
        "misclassified_files = []\n",
        "for result in results:\n",
        "    if not result[3]:  # if is_correct is False\n",
        "        misclassified_files.append(result[0])\n",
        "print(\"Misclassified CSV files:\")\n",
        "for file in misclassified_files:\n",
        "    print(file)\n"
      ],
      "metadata": {
        "colab": {
          "base_uri": "https://localhost:8080/",
          "height": 1000
        },
        "id": "8d9NF7zjec3s",
        "outputId": "e97b92dc-422c-409d-e003-0c359d627460"
      },
      "execution_count": 7,
      "outputs": [
        {
          "output_type": "stream",
          "name": "stdout",
          "text": [
            "Mean cross-validation score: 0.8051249494143714, standard deviation: 0.0019798686929572385\n",
            "modified_double_tos-1720x720-cfg01_compressed_frame_info_csv.csv: 4023 misclassified entries\n",
            "modified_double_ShakeNDry_3840x2160_120fps_420_8bit_HEVC_MP4_compressed_frame_info_csv.csv: 49 misclassified entries\n",
            "modified_double_Rogue One - A Star Wars Story - HEVC Teaser_compressed_frame_info_csv.csv: 922 misclassified entries\n",
            "modified_single_Toy Story 4 - Theatrical Trailer_frame_info_csv.csv: 581 misclassified entries\n",
            "modified_double_bbb-1920x1080-cfg06_compressed_frame_info_csv.csv: 6552 misclassified entries\n",
            "modified_double_bbb-1920x1080-cfg02_compressed_frame_info_csv.csv: 6093 misclassified entries\n",
            "modified_single_X-Men - Apocalypse - Trailer 3 (HEVC)_frame_info_csv.csv: 937 misclassified entries\n",
            "modified_double_Aladdin - Trailer 2_compressed_frame_info_csv.csv: 1464 misclassified entries\n",
            "modified_double_Jockey_3840x2160_120fps_420_8bit_HEVC_MP4_compressed_frame_info_csv.csv: 225 misclassified entries\n",
            "modified_double_ReadySetGo_3840x2160_120fps_420_8bit_HEVC_MP4_compressed_frame_info_csv.csv: 189 misclassified entries\n",
            "modified_single_bbb-1920x1080-cfg06_frame_info_csv.csv: 3264 misclassified entries\n",
            "modified_single_tos-1720x720-cfg01_frame_info_csv.csv: 1603 misclassified entries\n",
            "modified_single_Fantastic Beasts and Where to Find Them - HEVC Trailer 3_frame_info_csv.csv: 893 misclassified entries\n",
            "modified_single_BIG BEASTS (2023) - Trailer [4K Ultra HD]_frame_info_csv.csv: 194 misclassified entries\n",
            "modified_double_X-Men - Apocalypse - Trailer 3 (HEVC)_compressed_frame_info_csv.csv: 1592 misclassified entries\n",
            "modified_double_Bosphorus_3840x2160_120fps_420_8bit_HEVC_MP4_compressed_frame_info_csv.csv: 174 misclassified entries\n",
            "modified_single_Jockey_3840x2160_120fps_420_8bit_HEVC_MP4_frame_info_csv.csv: 121 misclassified entries\n",
            "modified_single_spreed-1080p_frame_info_csv.csv: 223 misclassified entries\n",
            "modified_single_Star Wars - The Last Jedi - Teaser [HEVC]_frame_info_csv.csv: 628 misclassified entries\n",
            "modified_double_Avengers - Endgame - Trailer 2_compressed_frame_info_csv.csv: 1354 misclassified entries\n",
            "modified_single_Avengers - Endgame - Trailer 2_frame_info_csv.csv: 906 misclassified entries\n",
            "modified_double_BIG BEASTS (2023) - Trailer [4K Ultra HD]_compressed_frame_info_csv.csv: 225 misclassified entries\n",
            "modified_single_ShakeNDry_3840x2160_120fps_420_8bit_HEVC_MP4_frame_info_csv.csv: 70 misclassified entries\n",
            "modified_double_Beauty_3840x2160_120fps_420_8bit_HEVC_MP4_compressed_frame_info_csv.csv: 208 misclassified entries\n",
            "modified_single_Rogue One - A Star Wars Story - HEVC Teaser_frame_info_csv.csv: 576 misclassified entries\n",
            "modified_double_HoneyBee_3840x2160_120fps_420_8bit_HEVC_MP4_compressed_frame_info_csv.csv: 250 misclassified entries\n",
            "modified_single_YachtRide_3840x2160_120fps_420_8bit_HEVC_MP4_frame_info_csv.csv: 109 misclassified entries\n",
            "modified_single_Aladdin - Trailer 2_frame_info_csv.csv: 780 misclassified entries\n",
            "modified_single_ReadySetGo_3840x2160_120fps_420_8bit_HEVC_MP4_frame_info_csv.csv: 91 misclassified entries\n",
            "modified_single_Beauty_3840x2160_120fps_420_8bit_HEVC_MP4_frame_info_csv.csv: 132 misclassified entries\n",
            "modified_single_HoneyBee_3840x2160_120fps_420_8bit_HEVC_MP4_frame_info_csv.csv: 91 misclassified entries\n",
            "modified_double_YachtRide_3840x2160_120fps_420_8bit_HEVC_MP4_compressed_frame_info_csv.csv: 158 misclassified entries\n",
            "modified_double_Toy Story 4 - Theatrical Trailer_compressed_frame_info_csv.csv: 852 misclassified entries\n",
            "modified_single_elephants-dream-1080-cfg02_frame_info_csv.csv: 2156 misclassified entries\n",
            "modified_single_Bosphorus_3840x2160_120fps_420_8bit_HEVC_MP4_frame_info_csv.csv: 119 misclassified entries\n",
            "modified_double_elephants-dream-1080-cfg02_compressed_frame_info_csv.csv: 1403 misclassified entries\n",
            "modified_single_Rogue One - A Star Wars Story - HEVC Trailer 2_frame_info_csv.csv: 825 misclassified entries\n",
            "modified_double_Star Wars - The Last Jedi - Teaser [HEVC]_compressed_frame_info_csv.csv: 1013 misclassified entries\n",
            "modified_single_bbb-1920x1080-cfg02_frame_info_csv.csv: 4334 misclassified entries\n"
          ]
        },
        {
          "output_type": "display_data",
          "data": {
            "text/plain": [
              "<Figure size 640x480 with 1 Axes>"
            ],
            "image/png": "[encoded data removed]"
          },
          "metadata": {}
        },
        {
          "output_type": "stream",
          "name": "stdout",
          "text": [
            "Misclassified CSV files:\n"
          ]
        }
      ]
    },
    {
      "cell_type": "code",
      "source": [
        "# Print misclassified CSV files\n",
        "# empty indicates zero - need a larger training-test set to actually validate this performance \n",
        "misclassified_files = []\n",
        "for result in results:\n",
        "    if not result[3]:  # if is_correct is False\n",
        "        misclassified_files.append(result[0])\n",
        "print(\"Misclassified CSV files:\")\n",
        "for file in misclassified_files:\n",
        "    print(file)\n",
        "\n",
        "# Output a confusion matrix for rows\n",
        "plot_confusion_matrix(y_test, y_pred, labels=[\"single compressed\", \"double compressed\"], title=\"Confusion Matrix for Rows\")\n",
        "\n",
        "# Output a confusion matrix for files\n",
        "true_labels_files = [result[1] for result in results]\n",
        "predicted_labels_files = [result[2] for result in results]\n",
        "plot_confusion_matrix(true_labels_files, predicted_labels_files, labels=[\"single compressed\", \"double compressed\"], title=\"Confusion Matrix for Files\")\n"
      ],
      "metadata": {
        "colab": {
          "base_uri": "https://localhost:8080/",
          "height": 945
        },
        "id": "s4B0n1cQxujn",
        "outputId": "cb99eecb-7a76-40c0-90b9-71034d6b658a"
      },
      "execution_count": 8,
      "outputs": [
        {
          "output_type": "stream",
          "name": "stdout",
          "text": [
            "Misclassified CSV files:\n"
          ]
        },
        {
          "output_type": "display_data",
          "data": {
            "text/plain": [
              "<Figure size 640x480 with 2 Axes>"
            ],
            "image/png": "[encoded data removed]"
          },
          "metadata": {}
        },
        {
          "output_type": "display_data",
          "data": {
            "text/plain": [
              "<Figure size 640x480 with 2 Axes>"
            ],
            "image/png": "[encoded data removed]"
          },
          "metadata": {}
        }
      ]
    },
    {
      "cell_type": "code",
      "source": [],
      "metadata": {
        "id": "aVuVDR6zyp_w"
      },
      "execution_count": null,
      "outputs": []
    },
    {
      "cell_type": "markdown",
      "source": [
        "# Code below for reference purposes"
      ],
      "metadata": {
        "id": "0JdkeV0Eyqqw"
      }
    },
    {
      "cell_type": "markdown",
      "source": [
        "contains feature extraction pipeline, was ran locally"
      ],
      "metadata": {
        "id": "fhsDTZfsyzEf"
      }
    },
    {
      "cell_type": "markdown",
      "source": [
        " A Python script that compresses video files in a given input folder and saves the compressed files in a specified output folder. The script uses the FFmpeg command-line tool to perform the compression. It supports various video file formats, such as MP4, AVI, MOV, MKV, and WMV. The compression settings include the libx264 video codec, a Constant Rate Factor (CRF) of 5 for high-quality output, a slow encoding speed for better compression ratio, and the AAC audio codec with a bitrate of 128 kbps."
      ],
      "metadata": {
        "id": "vs0rjKK6zKum"
      }
    },
    {
      "cell_type": "code",
      "source": [
        "# Import necessary libraries\n",
        "import os\n",
        "import subprocess\n",
        "from pathlib import Path\n",
        "\n",
        "# Set the input and output folder paths\n",
        "input_folder = Path('C:/Users/q42/Downloads/clips trailers h265/')\n",
        "output_folder = Path('C:/Users/q42/Downloads/clips trailers h265/slowcrf15')\n",
        "\n",
        "# Create the output folder if it doesn't exist\n",
        "output_folder.mkdir(parents=True, exist_ok=True)\n",
        "\n",
        "# List of supported video file extensions\n",
        "video_extensions = ['.mp4', '.avi', '.mov', '.mkv', '.wmv']\n",
        "\n",
        "# Iterate through files in the input folder\n",
        "for filename in input_folder.iterdir():\n",
        "    # Check if the file has a supported video extension\n",
        "    if filename.suffix.lower() in video_extensions:\n",
        "        # Set the input and output file paths\n",
        "        input_path = filename\n",
        "        output_path = output_folder / f\"{filename.stem}_compressed.mp4\"\n",
        "        \n",
        "        # Create the command to compress the video using FFmpeg\n",
        "        command = [\n",
        "            \"ffmpeg\",\n",
        "            \"-i\", str(input_path),                # Input file path\n",
        "            \"-c:v\", \"libx265\",                    # Video codec (changed to libx265 for h265 encoding)\n",
        "            \"-crf\", \"15\",                         # Constant Rate Factor (lower value = higher quality)\n",
        "            \"-preset\", \"slow\",                    # Encoding speed and compression ratio\n",
        "            \"-c:a\", \"aac\",                        # Audio codec\n",
        "            \"-b:a\", \"128k\",                       # Audio bitrate\n",
        "            str(output_path)                      # Output file path\n",
        "        ]\n",
        "        \n",
        "        # Run the FFmpeg command to compress the video\n",
        "        subprocess.run(command)\n"
      ],
      "metadata": {
        "id": "obCPZHRIzMQp"
      },
      "execution_count": null,
      "outputs": []
    },
    {
      "cell_type": "markdown",
      "source": [
        "This Python code extracts frame information from video files using the ffprobe tool and saves the frame information in JSON format in a separate file for each input video file. It iterates through all files in the input folder, checks if each file has a supported video extension, and if so, constructs a ffprobe command to extract the frame information from the video file. It then executes the ffprobe command and saves the JSON output to a file in the output folder with a name based on the input file name. Finally, it prints a message indicating that the frame information was extracted and saved for the input video file and the location of the output file. This code can be used to extract frame information from video files for further analysis or processing."
      ],
      "metadata": {
        "id": "aj2JiDktzh6u"
      }
    },
    {
      "cell_type": "code",
      "source": [
        "import subprocess\n",
        "from pathlib import Path\n",
        "import glob\n",
        "\n",
        "input_folder = Path('C:/Users/q42/Downloads/clips trailers h265/')\n",
        "output_folder = Path('C:/Users/q42/Downloads/clips trailers h265/frame_info')\n",
        "\n",
        "# Create the output folder if it doesn't exist\n",
        "output_folder.mkdir(parents=True, exist_ok=True)\n",
        "\n",
        "# List of supported video file extensions\n",
        "video_extensions = ['.mp4', '.avi', '.mov', '.mkv', '.wmv']\n",
        "\n",
        "# Iterate through files in the input folder\n",
        "for video_file in input_folder.iterdir():\n",
        "    # Check if the file has a supported video extension\n",
        "    if video_file.suffix.lower() in video_extensions:\n",
        "        # Set the output file path\n",
        "        output_path = output_folder / f\"{video_file.stem}_frame_info.json\"\n",
        "\n",
        "        # Extract frame information to a JSON file\n",
        "        extract_frame_info_command = [\n",
        "            \"ffprobe\",\n",
        "            \"-v\", \"quiet\",\n",
        "            \"-print_format\", \"json\",\n",
        "            \"-show_frames\",\n",
        "            \"-select_streams\", \"v\",\n",
        "            \"-i\", str(video_file)\n",
        "        ]\n",
        "\n",
        "        with open(output_path, \"w\") as output_file:\n",
        "            subprocess.call(extract_frame_info_command, stdout=output_file, stderr=subprocess.STDOUT)\n",
        "\n",
        "        # Print a message indicating that the file was processed\n",
        "        print(f\"Frame information extracted for {video_file} and saved to {output_path}\")\n"
      ],
      "metadata": {
        "id": "kScsww4CzOXQ"
      },
      "execution_count": null,
      "outputs": []
    },
    {
      "cell_type": "markdown",
      "source": [
        "The Python code extracts specific fields from JSON files containing frame information for videos and saves the extracted data as CSV files. The code iterates through all JSON files in a specified folder and extracts the frames and certain fields from each JSON file. It then creates a new CSV file with the same name as the JSON file and writes the extracted data to the CSV file"
      ],
      "metadata": {
        "id": "olzPYyWXzgVv"
      }
    },
    {
      "cell_type": "code",
      "source": [
        "import json\n",
        "import csv\n",
        "from pathlib import Path\n",
        "\n",
        "# Set the folder path containing the JSON files\n",
        "output_folder = Path('C:/Users/q42/Downloads/clips trailers h265/slowcrf15/frame_info_recompressed')\n",
        "\n",
        "# Specify the fields to extract from the JSON\n",
        "fields = [\n",
        "    \"pict_type\",\n",
        "    \"pkt_size\",\n",
        "    \"pkt_pos\",\n",
        "    \"key_frame\",\n",
        "]\n",
        "\n",
        "# Iterate through files in the output_folder\n",
        "for json_path in output_folder.glob('*.json'):\n",
        "    # Load the JSON data from a file\n",
        "    with open(json_path, \"r\") as json_file:\n",
        "        data = json.load(json_file)\n",
        "\n",
        "    # Extract the frames from the JSON data\n",
        "    frames = data[\"frames\"]\n",
        "\n",
        "    # Create a CSV file and write the extracted data\n",
        "    csv_path = json_path.with_suffix('.csv')\n",
        "    with open(csv_path, \"w\", newline=\"\") as csv_file:\n",
        "        writer = csv.DictWriter(csv_file, fieldnames=fields)\n",
        "        writer.writeheader()\n",
        "\n",
        "        for frame in frames:\n",
        "            if frame[\"media_type\"] == \"video\":\n",
        "                # Extract the specified fields from the frame\n",
        "                row_data = {field: frame[field] for field in fields}\n",
        "                writer.writerow(row_data)\n",
        "\n",
        "    print(f\"CSV file created successfully: {csv_path}\")\n"
      ],
      "metadata": {
        "id": "-Du0cUpSzQYe"
      },
      "execution_count": null,
      "outputs": []
    },
    {
      "cell_type": "markdown",
      "source": [
        "This Python code extracts specific keys from JSON files containing frame information for compressed and recompreesed videos (no splicing/editing/authenticity changes done, only integrity altered), creates CSV files with the extracted data, and stores them in a specified output folder."
      ],
      "metadata": {
        "id": "IhnJxnoIzeiF"
      }
    },
    {
      "cell_type": "code",
      "source": [
        "import os\n",
        "import json\n",
        "import csv\n",
        "\n",
        "single_comp_folder = \"C:/Users/q42/Downloads/clips trailers h265/data/frame_info\"\n",
        "double_comp_folder = \"C:/Users/q42/Downloads/clips trailers h265/data/frame_info_recompressed\"\n",
        "output_folder = \"C:/Users/q42/Downloads/clips trailers h265/data/output\"\n",
        "\n",
        "# Define the keys to extract\n",
        "keys = ['pict_type', 'pkt_size', 'pkt_pos', 'key_frame']\n",
        "\n",
        "folders = [single_comp_folder, double_comp_folder]\n",
        "\n",
        "for folder in folders:\n",
        "    # Loop over all files in the folder\n",
        "    for filename in os.listdir(folder):\n",
        "        file_path = os.path.join(folder, filename)\n",
        "        if not os.path.isfile(file_path) or not filename.endswith('.json'):\n",
        "            continue\n",
        "\n",
        "        # Open the JSON file and load the data\n",
        "        with open(file_path, 'r') as f:\n",
        "            data = json.load(f)\n",
        "\n",
        "        # Extract the entries for the desired keys from all frames\n",
        "        rows = []\n",
        "        for frame in data['frames']:\n",
        "            row = [frame.get(key) for key in keys]\n",
        "            rows.append(row)\n",
        "\n",
        "        # Write the output CSV file\n",
        "        folder_prefix = \"single\" if folder == single_comp_folder else \"double\"\n",
        "        output_csv_filename = f\"{folder_prefix}_{filename[:-5]}_csv.csv\"\n",
        "        output_csv_path = os.path.join(output_folder, output_csv_filename)\n",
        "        with open(output_csv_path, 'w', newline='') as output_csv_file:\n",
        "            writer = csv.writer(output_csv_file)\n",
        "            writer.writerow(keys)\n",
        "            writer.writerows(rows)\n"
      ],
      "metadata": {
        "id": "64SBOlo7zRp-"
      },
      "execution_count": null,
      "outputs": []
    },
    {
      "cell_type": "markdown",
      "source": [
        "The code prepares data from CSV files containing packet information, labels the data as single or double compressed based on the file name, runs a classification experiment using Random Forest algorithm on the data, and stores the validation and test accuracies obtained from 5 different runs with different seeds. Finally, it plots a boxplot of the accuracies."
      ],
      "metadata": {
        "id": "6zgwjgR5zaD2"
      }
    },
    {
      "cell_type": "code",
      "source": [
        "import os\n",
        "import csv\n",
        "import numpy as np\n",
        "import matplotlib.pyplot as plt\n",
        "from sklearn.model_selection import train_test_split\n",
        "from sklearn.preprocessing import StandardScaler\n",
        "from sklearn.ensemble import RandomForestClassifier\n",
        "from sklearn.metrics import accuracy_score\n",
        "\n",
        "def run_experiment(X, y, seed):\n",
        "    # Split the data into training, validation, and test sets\n",
        "    X_train, X_temp, y_train, y_temp = train_test_split(X, y, test_size=0.4, random_state=seed)\n",
        "    X_val, X_test, y_val, y_test = train_test_split(X_temp, y_temp, test_size=0.5, random_state=seed)\n",
        "\n",
        "    # Preprocess the data (scaling)\n",
        "    scaler = StandardScaler()\n",
        "    X_train = scaler.fit_transform(X_train)\n",
        "    X_val = scaler.transform(X_val)\n",
        "    X_test = scaler.transform(X_test)\n",
        "\n",
        "    # Choose a classification algorithm\n",
        "    clf = RandomForestClassifier(n_estimators=100, random_state=seed)\n",
        "\n",
        "    # Train the classifier\n",
        "    clf.fit(X_train, y_train)\n",
        "\n",
        "    # Test the classifier on validation set\n",
        "    y_val_pred = clf.predict(X_val)\n",
        "    val_accuracy = accuracy_score(y_val, y_val_pred)\n",
        "\n",
        "    # Test the classifier on test set\n",
        "    y_test_pred = clf.predict(X_test)\n",
        "    test_accuracy = accuracy_score(y_test, y_test_pred)\n",
        "\n",
        "    return val_accuracy, test_accuracy\n",
        "\n",
        "output_folder = \"C:/Users/q42/Downloads/clips trailers h265/data/output\"\n",
        "\n",
        "# Prepare the data\n",
        "X = []  # Features\n",
        "y = []  # Labels\n",
        "\n",
        "for filename in os.listdir(output_folder):\n",
        "    if not filename.endswith('_csv.csv'):\n",
        "        continue\n",
        "\n",
        "    label = 1 if filename.startswith('double') else 0\n",
        "\n",
        "    with open(os.path.join(output_folder, filename), 'r') as f:\n",
        "        reader = csv.reader(f)\n",
        "        next(reader)  # Skip header\n",
        "\n",
        "        for row in reader:\n",
        "            pkt_size, pkt_pos, key_frame = int(row[1]), int(row[2]), int(row[3])\n",
        "            X.append([pkt_size, pkt_pos, key_frame])\n",
        "            y.append(label)\n",
        "\n",
        "X = np.array(X)\n",
        "y = np.array(y)\n",
        "\n",
        "# Run the experiment 5 times with different seeds and store the results\n",
        "results = [run_experiment(X, y, seed=i) for i in range(5)]\n",
        "\n",
        "# Extract validation and test accuracies\n",
        "val_accuracies, test_accuracies = zip(*results)\n",
        "\n",
        "# Plot the boxplots\n",
        "plt.boxplot([val_accuracies, test_accuracies])\n",
        "plt.title('Validation and Test Accuracies over 5 Runs with Different Seeds')\n",
        "plt.ylabel('Accuracy')\n",
        "plt.xticks([1, 2], ['Validation', 'Test'])\n",
        "plt.show()\n"
      ],
      "metadata": {
        "id": "-NabsJs8zT9u"
      },
      "execution_count": null,
      "outputs": []
    },
    {
      "cell_type": "markdown",
      "source": [
        "deprecated"
      ],
      "metadata": {
        "id": "W3bCxty3zWtw"
      }
    },
    {
      "cell_type": "code",
      "source": [
        "import os\n",
        "import csv\n",
        "import numpy as np\n",
        "import matplotlib.pyplot as plt\n",
        "from sklearn.model_selection import train_test_split, RandomizedSearchCV\n",
        "from sklearn.preprocessing import StandardScaler\n",
        "from sklearn.svm import SVC\n",
        "from sklearn.metrics import accuracy_score\n",
        "\n",
        "def run_experiment(X, y, seed):\n",
        "    # Split the data into training, validation, and test sets\n",
        "    X_train, X_temp, y_train, y_temp = train_test_split(X, y, test_size=0.4, random_state=seed)\n",
        "    X_val, X_test, y_val, y_test = train_test_split(X_temp, y_temp, test_size=0.5, random_state=seed)\n",
        "\n",
        "    # Preprocess the data (scaling)\n",
        "    scaler = StandardScaler()\n",
        "    X_train = scaler.fit_transform(X_train)\n",
        "    X_val = scaler.transform(X_val)\n",
        "    X_test = scaler.transform(X_test)\n",
        "\n",
        "     # Perform a parameter search for the SVM\n",
        "    param_dist = {\n",
        "        'C': [0.1, 1, 10, 100],\n",
        "        'gamma': [0.1, 1, 10, 100],\n",
        "    }\n",
        "    svm = SVC(kernel='rbf')\n",
        "    clf = RandomizedSearchCV(svm, param_dist, n_iter=16, cv=5, n_jobs=-1, random_state=seed)\n",
        "    print(f\"Running RandomizedSearchCV for run {seed + 1}\")\n",
        "    clf.fit(X_train, y_train)\n",
        "\n",
        "    # Use the best parameters on validation set\n",
        "    y_val_pred = clf.predict(X_val)\n",
        "    val_accuracy = accuracy_score(y_val, y_val_pred)\n",
        "\n",
        "    # Use the best parameters on test set\n",
        "    y_test_pred = clf.predict(X_test)\n",
        "    test_accuracy = accuracy_score(y_test, y_test_pred)\n",
        "\n",
        "    return val_accuracy, test_accuracy\n",
        "\n",
        "output_folder = \"C:/Users/q42/Downloads/clips trailers h265/data/output\"\n",
        "\n",
        "# Prepare the data\n",
        "X = []  # Features\n",
        "y = []  # Labels\n",
        "\n",
        "for filename in os.listdir(output_folder):\n",
        "    if not filename.endswith('_csv.csv'):\n",
        "        continue\n",
        "\n",
        "    label = 1 if filename.startswith('double') else 0\n",
        "\n",
        "    with open(os.path.join(output_folder, filename), 'r') as f:\n",
        "        reader = csv.reader(f)\n",
        "        next(reader)  # Skip header\n",
        "\n",
        "        for row in reader:\n",
        "            pkt_size, pkt_pos, key_frame = int(row[1]), int(row[2]), int(row[3])\n",
        "            X.append([pkt_size, pkt_pos, key_frame])\n",
        "            y.append(label)\n",
        "\n",
        "X = np.array(X)\n",
        "y = np.array(y)\n",
        "\n",
        "\n",
        "# Run the experiment 5 times with different seeds and store the results\n",
        "results = []\n",
        "for i in range(5):\n",
        "    val_accuracy, test_accuracy = run_experiment(X, y, seed=i)\n",
        "    results.append({\n",
        "        'run': i + 1,\n",
        "        'validation_accuracy': val_accuracy,\n",
        "        'test_accuracy': test_accuracy\n",
        "    })\n",
        "    print(f\"Run {i + 1}: Validation Accuracy = {val_accuracy}, Test Accuracy = {test_accuracy}\")\n",
        "\n",
        "\n",
        "# Extract validation and test accuracies\n",
        "val_accuracies, test_accuracies = zip(*results)\n",
        "\n",
        "# Plot the boxplots\n",
        "plt.boxplot([val_accuracies, test_accuracies])\n",
        "plt.title('Validation and Test Accuracies over 5 Runs with Different Seeds')\n",
        "plt.ylabel('Accuracy')\n",
        "plt.xticks([1, 2], ['Validation', 'Test'])\n",
        "plt.show()\n"
      ],
      "metadata": {
        "id": "sf_JC9IFzWAN"
      },
      "execution_count": null,
      "outputs": []
    }
  ],
  "metadata": {
    "kernelspec": {
      "display_name": "Python 3",
      "language": "python",
      "name": "python3"
    },
    "language_info": {
      "codemirror_mode": {
        "name": "ipython",
        "version": 3
      },
      "file_extension": ".py",
      "mimetype": "text/x-python",
      "name": "python",
      "nbconvert_exporter": "python",
      "pygments_lexer": "ipython3",
      "version": "3.10.10"
    },
    "orig_nbformat": 4,
    "colab": {
      "provenance": [],
      "collapsed_sections": [
        "0JdkeV0Eyqqw",
        "W3bCxty3zWtw"
      ]
    }
  },
  "nbformat": 4,
  "nbformat_minor": 0
}